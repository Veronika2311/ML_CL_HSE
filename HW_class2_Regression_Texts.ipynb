{
  "cells": [
    {
      "cell_type": "markdown",
      "metadata": {
        "id": "view-in-github",
        "colab_type": "text"
      },
      "source": [
        "<a href=\"https://colab.research.google.com/github/Veronika2311/ML_CL_HSE/blob/main/HW_class2_Regression_Texts.ipynb\" target=\"_parent\"><img src=\"https://colab.research.google.com/assets/colab-badge.svg\" alt=\"Open In Colab\"/></a>"
      ]
    },
    {
      "cell_type": "markdown",
      "metadata": {
        "id": "SU-clmZzB_zX"
      },
      "source": [
        "На этом занятии мы попробуем задачу регрессии. Данные возьмем вот эти - https://www.kaggle.com/lakshmi25npathi/imdb-dataset-of-50k-movie-reviews"
      ]
    },
    {
      "cell_type": "markdown",
      "metadata": {
        "id": "gkzX6BbOB_zZ"
      },
      "source": [
        "Перед обучением обучением модели, нужно подготовить данные:\n",
        "\n",
        "- найти\\собрать данные\n",
        "- почистить и предобработать\n",
        "- преобразовать в матрицы\n"
      ]
    },
    {
      "cell_type": "code",
      "execution_count": 132,
      "metadata": {
        "tags": [],
        "id": "p3YtXSmAB_zZ"
      },
      "outputs": [],
      "source": [
        "# импорты необходимых библиотек\n",
        "import pandas as pd\n",
        "\n",
        "import seaborn as sns\n",
        "import matplotlib.pyplot as plt\n",
        "# %matplotlib inline\n",
        "\n",
        "# import gensim\n",
        "from gensim.models.doc2vec import Doc2Vec, TaggedDocument\n",
        "from sklearn.linear_model import LinearRegression, Ridge, Lasso\n",
        "from sklearn.preprocessing import StandardScaler\n",
        "from sklearn.model_selection import train_test_split\n",
        "from sklearn.metrics import mean_absolute_error, mean_squared_error\n",
        "from nltk.corpus import stopwords"
      ]
    },
    {
      "cell_type": "code",
      "source": [
        "import gdown\n",
        "!gdown 1VCFHZJii3D_XV-rGhu2c_b9M7LECLup9"
      ],
      "metadata": {
        "colab": {
          "base_uri": "https://localhost:8080/"
        },
        "id": "CcKr9Vr0ChUq",
        "outputId": "6d9cfe6b-6824-4e19-831f-5b819ab8f86e"
      },
      "execution_count": 133,
      "outputs": [
        {
          "output_type": "stream",
          "name": "stdout",
          "text": [
            "Downloading...\n",
            "From: https://drive.google.com/uc?id=1VCFHZJii3D_XV-rGhu2c_b9M7LECLup9\n",
            "To: /content/IMDB-Movie-Data.csv\n",
            "\r  0% 0.00/310k [00:00<?, ?B/s]\r100% 310k/310k [00:00<00:00, 21.7MB/s]\n"
          ]
        }
      ]
    },
    {
      "cell_type": "code",
      "execution_count": 134,
      "metadata": {
        "tags": [],
        "colab": {
          "base_uri": "https://localhost:8080/",
          "height": 275
        },
        "id": "OcvwBtQiB_za",
        "outputId": "fa836099-b1d6-43b9-8245-dc227e1446f5"
      },
      "outputs": [
        {
          "output_type": "stream",
          "name": "stdout",
          "text": [
            "(1000, 12)\n"
          ]
        },
        {
          "output_type": "execute_result",
          "data": {
            "text/plain": [
              "   Rank                    Title                     Genre  \\\n",
              "0     1  Guardians of the Galaxy   Action,Adventure,Sci-Fi   \n",
              "1     2               Prometheus  Adventure,Mystery,Sci-Fi   \n",
              "2     3                    Split           Horror,Thriller   \n",
              "\n",
              "                                         Description            Director  \\\n",
              "0  A group of intergalactic criminals are forced ...          James Gunn   \n",
              "1  Following clues to the origin of mankind, a te...        Ridley Scott   \n",
              "2  Three girls are kidnapped by a man with a diag...  M. Night Shyamalan   \n",
              "\n",
              "                                              Actors  Year  Runtime (Minutes)  \\\n",
              "0  Chris Pratt, Vin Diesel, Bradley Cooper, Zoe S...  2014                121   \n",
              "1  Noomi Rapace, Logan Marshall-Green, Michael Fa...  2012                124   \n",
              "2  James McAvoy, Anya Taylor-Joy, Haley Lu Richar...  2016                117   \n",
              "\n",
              "   Rating   Votes  Revenue (Millions)  Metascore  \n",
              "0     8.1  757074              333.13       76.0  \n",
              "1     7.0  485820              126.46       65.0  \n",
              "2     7.3  157606              138.12       62.0  "
            ],
            "text/html": [
              "\n",
              "  <div id=\"df-3631bf21-8972-433d-a211-495193fc2aa2\">\n",
              "    <div class=\"colab-df-container\">\n",
              "      <div>\n",
              "<style scoped>\n",
              "    .dataframe tbody tr th:only-of-type {\n",
              "        vertical-align: middle;\n",
              "    }\n",
              "\n",
              "    .dataframe tbody tr th {\n",
              "        vertical-align: top;\n",
              "    }\n",
              "\n",
              "    .dataframe thead th {\n",
              "        text-align: right;\n",
              "    }\n",
              "</style>\n",
              "<table border=\"1\" class=\"dataframe\">\n",
              "  <thead>\n",
              "    <tr style=\"text-align: right;\">\n",
              "      <th></th>\n",
              "      <th>Rank</th>\n",
              "      <th>Title</th>\n",
              "      <th>Genre</th>\n",
              "      <th>Description</th>\n",
              "      <th>Director</th>\n",
              "      <th>Actors</th>\n",
              "      <th>Year</th>\n",
              "      <th>Runtime (Minutes)</th>\n",
              "      <th>Rating</th>\n",
              "      <th>Votes</th>\n",
              "      <th>Revenue (Millions)</th>\n",
              "      <th>Metascore</th>\n",
              "    </tr>\n",
              "  </thead>\n",
              "  <tbody>\n",
              "    <tr>\n",
              "      <th>0</th>\n",
              "      <td>1</td>\n",
              "      <td>Guardians of the Galaxy</td>\n",
              "      <td>Action,Adventure,Sci-Fi</td>\n",
              "      <td>A group of intergalactic criminals are forced ...</td>\n",
              "      <td>James Gunn</td>\n",
              "      <td>Chris Pratt, Vin Diesel, Bradley Cooper, Zoe S...</td>\n",
              "      <td>2014</td>\n",
              "      <td>121</td>\n",
              "      <td>8.1</td>\n",
              "      <td>757074</td>\n",
              "      <td>333.13</td>\n",
              "      <td>76.0</td>\n",
              "    </tr>\n",
              "    <tr>\n",
              "      <th>1</th>\n",
              "      <td>2</td>\n",
              "      <td>Prometheus</td>\n",
              "      <td>Adventure,Mystery,Sci-Fi</td>\n",
              "      <td>Following clues to the origin of mankind, a te...</td>\n",
              "      <td>Ridley Scott</td>\n",
              "      <td>Noomi Rapace, Logan Marshall-Green, Michael Fa...</td>\n",
              "      <td>2012</td>\n",
              "      <td>124</td>\n",
              "      <td>7.0</td>\n",
              "      <td>485820</td>\n",
              "      <td>126.46</td>\n",
              "      <td>65.0</td>\n",
              "    </tr>\n",
              "    <tr>\n",
              "      <th>2</th>\n",
              "      <td>3</td>\n",
              "      <td>Split</td>\n",
              "      <td>Horror,Thriller</td>\n",
              "      <td>Three girls are kidnapped by a man with a diag...</td>\n",
              "      <td>M. Night Shyamalan</td>\n",
              "      <td>James McAvoy, Anya Taylor-Joy, Haley Lu Richar...</td>\n",
              "      <td>2016</td>\n",
              "      <td>117</td>\n",
              "      <td>7.3</td>\n",
              "      <td>157606</td>\n",
              "      <td>138.12</td>\n",
              "      <td>62.0</td>\n",
              "    </tr>\n",
              "  </tbody>\n",
              "</table>\n",
              "</div>\n",
              "      <button class=\"colab-df-convert\" onclick=\"convertToInteractive('df-3631bf21-8972-433d-a211-495193fc2aa2')\"\n",
              "              title=\"Convert this dataframe to an interactive table.\"\n",
              "              style=\"display:none;\">\n",
              "        \n",
              "  <svg xmlns=\"http://www.w3.org/2000/svg\" height=\"24px\"viewBox=\"0 0 24 24\"\n",
              "       width=\"24px\">\n",
              "    <path d=\"M0 0h24v24H0V0z\" fill=\"none\"/>\n",
              "    <path d=\"M18.56 5.44l.94 2.06.94-2.06 2.06-.94-2.06-.94-.94-2.06-.94 2.06-2.06.94zm-11 1L8.5 8.5l.94-2.06 2.06-.94-2.06-.94L8.5 2.5l-.94 2.06-2.06.94zm10 10l.94 2.06.94-2.06 2.06-.94-2.06-.94-.94-2.06-.94 2.06-2.06.94z\"/><path d=\"M17.41 7.96l-1.37-1.37c-.4-.4-.92-.59-1.43-.59-.52 0-1.04.2-1.43.59L10.3 9.45l-7.72 7.72c-.78.78-.78 2.05 0 2.83L4 21.41c.39.39.9.59 1.41.59.51 0 1.02-.2 1.41-.59l7.78-7.78 2.81-2.81c.8-.78.8-2.07 0-2.86zM5.41 20L4 18.59l7.72-7.72 1.47 1.35L5.41 20z\"/>\n",
              "  </svg>\n",
              "      </button>\n",
              "      \n",
              "  <style>\n",
              "    .colab-df-container {\n",
              "      display:flex;\n",
              "      flex-wrap:wrap;\n",
              "      gap: 12px;\n",
              "    }\n",
              "\n",
              "    .colab-df-convert {\n",
              "      background-color: #E8F0FE;\n",
              "      border: none;\n",
              "      border-radius: 50%;\n",
              "      cursor: pointer;\n",
              "      display: none;\n",
              "      fill: #1967D2;\n",
              "      height: 32px;\n",
              "      padding: 0 0 0 0;\n",
              "      width: 32px;\n",
              "    }\n",
              "\n",
              "    .colab-df-convert:hover {\n",
              "      background-color: #E2EBFA;\n",
              "      box-shadow: 0px 1px 2px rgba(60, 64, 67, 0.3), 0px 1px 3px 1px rgba(60, 64, 67, 0.15);\n",
              "      fill: #174EA6;\n",
              "    }\n",
              "\n",
              "    [theme=dark] .colab-df-convert {\n",
              "      background-color: #3B4455;\n",
              "      fill: #D2E3FC;\n",
              "    }\n",
              "\n",
              "    [theme=dark] .colab-df-convert:hover {\n",
              "      background-color: #434B5C;\n",
              "      box-shadow: 0px 1px 3px 1px rgba(0, 0, 0, 0.15);\n",
              "      filter: drop-shadow(0px 1px 2px rgba(0, 0, 0, 0.3));\n",
              "      fill: #FFFFFF;\n",
              "    }\n",
              "  </style>\n",
              "\n",
              "      <script>\n",
              "        const buttonEl =\n",
              "          document.querySelector('#df-3631bf21-8972-433d-a211-495193fc2aa2 button.colab-df-convert');\n",
              "        buttonEl.style.display =\n",
              "          google.colab.kernel.accessAllowed ? 'block' : 'none';\n",
              "\n",
              "        async function convertToInteractive(key) {\n",
              "          const element = document.querySelector('#df-3631bf21-8972-433d-a211-495193fc2aa2');\n",
              "          const dataTable =\n",
              "            await google.colab.kernel.invokeFunction('convertToInteractive',\n",
              "                                                     [key], {});\n",
              "          if (!dataTable) return;\n",
              "\n",
              "          const docLinkHtml = 'Like what you see? Visit the ' +\n",
              "            '<a target=\"_blank\" href=https://colab.research.google.com/notebooks/data_table.ipynb>data table notebook</a>'\n",
              "            + ' to learn more about interactive tables.';\n",
              "          element.innerHTML = '';\n",
              "          dataTable['output_type'] = 'display_data';\n",
              "          await google.colab.output.renderOutput(dataTable, element);\n",
              "          const docLink = document.createElement('div');\n",
              "          docLink.innerHTML = docLinkHtml;\n",
              "          element.appendChild(docLink);\n",
              "        }\n",
              "      </script>\n",
              "    </div>\n",
              "  </div>\n",
              "  "
            ]
          },
          "metadata": {},
          "execution_count": 134
        }
      ],
      "source": [
        "data = pd.read_csv('IMDB-Movie-Data.csv')\n",
        "print(data.shape)\n",
        "\n",
        "data.head(3)"
      ]
    },
    {
      "cell_type": "markdown",
      "metadata": {
        "id": "IGTWbudSB_za"
      },
      "source": [
        "## Что делать с NaN?\n",
        "Есть 3 варианта"
      ]
    },
    {
      "cell_type": "code",
      "execution_count": 135,
      "metadata": {
        "colab": {
          "base_uri": "https://localhost:8080/"
        },
        "id": "USiCVkbtB_zb",
        "outputId": "00ab8b2d-8bcf-4b75-93ca-a5b62c2bdac0"
      },
      "outputs": [
        {
          "output_type": "stream",
          "name": "stdout",
          "text": [
            "Rank                  False\n",
            "Title                 False\n",
            "Genre                 False\n",
            "Description           False\n",
            "Director              False\n",
            "Actors                False\n",
            "Year                  False\n",
            "Runtime (Minutes)     False\n",
            "Rating                False\n",
            "Votes                 False\n",
            "Revenue (Millions)     True\n",
            "Metascore              True\n",
            "dtype: bool\n"
          ]
        },
        {
          "output_type": "execute_result",
          "data": {
            "text/plain": [
              "(1000, 12)"
            ]
          },
          "metadata": {},
          "execution_count": 135
        }
      ],
      "source": [
        "# 1. Убрать строки с NaN\n",
        "print(data.isna().any())\n",
        "data.shape"
      ]
    },
    {
      "cell_type": "code",
      "execution_count": 136,
      "metadata": {
        "colab": {
          "base_uri": "https://localhost:8080/"
        },
        "id": "hIaIVLA0B_zb",
        "outputId": "d9893054-1a26-459d-828e-7926899561c2"
      },
      "outputs": [
        {
          "output_type": "stream",
          "name": "stdout",
          "text": [
            "(1000, 12)\n"
          ]
        },
        {
          "output_type": "execute_result",
          "data": {
            "text/plain": [
              "(838, 12)"
            ]
          },
          "metadata": {},
          "execution_count": 136
        }
      ],
      "source": [
        "print(data.shape)\n",
        "tmp = data.dropna()\n",
        "tmp.shape"
      ]
    },
    {
      "cell_type": "code",
      "execution_count": 137,
      "metadata": {
        "colab": {
          "base_uri": "https://localhost:8080/"
        },
        "id": "wEZH2WpiB_zb",
        "outputId": "892c1d1c-8b6c-4fae-cf33-84800b8a6f1d"
      },
      "outputs": [
        {
          "output_type": "stream",
          "name": "stdout",
          "text": [
            "(1000, 12)\n",
            "(1000, 12)\n"
          ]
        }
      ],
      "source": [
        "# 2. Превратить NaN в 0\n",
        "print(data.shape)\n",
        "tmp = data.fillna(0)\n",
        "print(tmp.shape)"
      ]
    },
    {
      "cell_type": "code",
      "execution_count": 138,
      "metadata": {
        "tags": [],
        "colab": {
          "base_uri": "https://localhost:8080/"
        },
        "id": "8IXA8EBiB_zb",
        "outputId": "eae4a102-1fa2-41d8-efec-aefdb501fb90"
      },
      "outputs": [
        {
          "output_type": "execute_result",
          "data": {
            "text/plain": [
              "Rank                  False\n",
              "Title                 False\n",
              "Genre                 False\n",
              "Description           False\n",
              "Director              False\n",
              "Actors                False\n",
              "Year                  False\n",
              "Runtime (Minutes)     False\n",
              "Rating                False\n",
              "Votes                 False\n",
              "Revenue (Millions)    False\n",
              "Metascore             False\n",
              "dtype: bool"
            ]
          },
          "metadata": {},
          "execution_count": 138
        }
      ],
      "source": [
        "# 3. Превратить NaN в средние значения по колонке\n",
        "\n",
        "# вычисляем средние для колонок с пустыми значениями\n",
        "meta_mean = data['Metascore'].mean()\n",
        "rev_mean = data['Revenue (Millions)'].mean()\n",
        "\n",
        "#заменяем пустоты на средние значения\n",
        "data.Metascore.fillna(meta_mean, inplace=True)\n",
        "data['Revenue (Millions)'].fillna(rev_mean, inplace=True)\n",
        "\n",
        "# проверяем присутствие NaN\n",
        "data.isna().any()"
      ]
    },
    {
      "cell_type": "markdown",
      "metadata": {
        "id": "QMaIF_N7B_zb"
      },
      "source": [
        "## Подготовка данных\n",
        "\n",
        "Попробуем предсказывать рейтинг фильма по данным его описания, года, длины в минутах и кассовых сборов\n",
        "\n",
        "Колонка \"Rating\" станет **целевой переменной, или таргетом** (y)<br>\n",
        "Остальных данные будут **обучающей выборкой** (X)"
      ]
    },
    {
      "cell_type": "code",
      "execution_count": 139,
      "metadata": {
        "colab": {
          "base_uri": "https://localhost:8080/"
        },
        "id": "M0x-lKe0B_zc",
        "outputId": "140d6001-ba7b-4c4b-b976-174732de8852"
      },
      "outputs": [
        {
          "output_type": "execute_result",
          "data": {
            "text/plain": [
              "0      A group of intergalactic criminals are forced ...\n",
              "1      Following clues to the origin of mankind, a te...\n",
              "2      Three girls are kidnapped by a man with a diag...\n",
              "3      In a city of humanoid animals, a hustling thea...\n",
              "4      A secret government agency recruits some of th...\n",
              "                             ...                        \n",
              "995    A tight-knit team of rising investigators, alo...\n",
              "996    Three American college students studying abroa...\n",
              "997    Romantic sparks occur between two dance studen...\n",
              "998    A pair of friends embark on a mission to reuni...\n",
              "999    A stuffy businessman finds himself trapped ins...\n",
              "Name: Description, Length: 1000, dtype: object"
            ]
          },
          "metadata": {},
          "execution_count": 139
        }
      ],
      "source": [
        "data.Description"
      ]
    },
    {
      "cell_type": "code",
      "source": [
        "# подготовим описания фильмов\n",
        "data[\"text\"] = data.Description.apply(lambda x: x.lower().split())"
      ],
      "metadata": {
        "id": "v4UeWKaJN-zc"
      },
      "execution_count": null,
      "outputs": []
    },
    {
      "cell_type": "code",
      "execution_count": 140,
      "metadata": {
        "tags": [],
        "colab": {
          "base_uri": "https://localhost:8080/"
        },
        "id": "m1gRlE9aB_zc",
        "outputId": "1c7f2205-131e-439d-9e3b-99361754b14b"
      },
      "outputs": [
        {
          "output_type": "stream",
          "name": "stderr",
          "text": [
            "[nltk_data] Downloading package stopwords to /root/nltk_data...\n",
            "[nltk_data]   Package stopwords is already up-to-date!\n"
          ]
        }
      ],
      "source": [
        "#очистка от стоп-слов\n",
        "import nltk\n",
        "nltk.download('stopwords')\n",
        "stop_words = set(stopwords.words(\"english\"))\n",
        "preproc_texts = []\n",
        "\n",
        "for i in data[\"text\"]:\n",
        "    text = []\n",
        "    for word in i:\n",
        "        if str(word) not in stop_words:\n",
        "            text.append(word)\n",
        "    preproc_texts.append(text)\n",
        "\n",
        "data[\"text\"] = preproc_texts"
      ]
    },
    {
      "cell_type": "code",
      "source": [
        "data[\"text\"]"
      ],
      "metadata": {
        "colab": {
          "base_uri": "https://localhost:8080/"
        },
        "id": "3ZGmdAv4M6eQ",
        "outputId": "255130da-d249-44ec-cdf0-2a8c863d9fab"
      },
      "execution_count": 141,
      "outputs": [
        {
          "output_type": "execute_result",
          "data": {
            "text/plain": [
              "0      [group, intergalactic, criminals, forced, work...\n",
              "1      [following, clues, origin, mankind,, team, fin...\n",
              "2      [three, girls, kidnapped, man, diagnosed, 23, ...\n",
              "3      [city, humanoid, animals,, hustling, theater, ...\n",
              "4      [secret, government, agency, recruits, dangero...\n",
              "                             ...                        \n",
              "995    [tight-knit, team, rising, investigators,, alo...\n",
              "996    [three, american, college, students, studying,...\n",
              "997    [romantic, sparks, occur, two, dance, students...\n",
              "998    [pair, friends, embark, mission, reunite, pal,...\n",
              "999    [stuffy, businessman, finds, trapped, inside, ...\n",
              "Name: text, Length: 1000, dtype: object"
            ]
          },
          "metadata": {},
          "execution_count": 141
        }
      ]
    },
    {
      "cell_type": "code",
      "execution_count": 142,
      "metadata": {
        "tags": [],
        "colab": {
          "base_uri": "https://localhost:8080/"
        },
        "id": "q5i5CbfeB_zc",
        "outputId": "c69432de-208f-4c47-f181-1fe564aa7698"
      },
      "outputs": [
        {
          "output_type": "execute_result",
          "data": {
            "text/plain": [
              "array([list(['group', 'intergalactic', 'criminals', 'forced', 'work', 'together', 'stop', 'fanatical', 'warrior', 'taking', 'control', 'universe.']),\n",
              "       list(['following', 'clues', 'origin', 'mankind,', 'team', 'finds', 'structure', 'distant', 'moon,', 'soon', 'realize', 'alone.']),\n",
              "       list(['three', 'girls', 'kidnapped', 'man', 'diagnosed', '23', 'distinct', 'personalities.', 'must', 'try', 'escape', 'apparent', 'emergence', 'frightful', 'new', '24th.']),\n",
              "       list(['city', 'humanoid', 'animals,', 'hustling', 'theater', \"impresario's\", 'attempt', 'save', 'theater', 'singing', 'competition', 'becomes', 'grander', 'anticipates', 'even', \"finalists'\", 'find', 'lives', 'never', 'same.']),\n",
              "       list(['secret', 'government', 'agency', 'recruits', 'dangerous', 'incarcerated', 'super-villains', 'form', 'defensive', 'task', 'force.', 'first', 'mission:', 'save', 'world', 'apocalypse.'])],\n",
              "      dtype=object)"
            ]
          },
          "metadata": {},
          "execution_count": 142
        }
      ],
      "source": [
        "data.text.values[:5]"
      ]
    },
    {
      "cell_type": "code",
      "execution_count": 143,
      "metadata": {
        "tags": [],
        "id": "Qf65-xN3B_zc"
      },
      "outputs": [],
      "source": [
        "input_text = list(data.text.values)"
      ]
    },
    {
      "cell_type": "code",
      "execution_count": 144,
      "metadata": {
        "tags": [],
        "colab": {
          "base_uri": "https://localhost:8080/"
        },
        "id": "c1KFoMzFB_zc",
        "outputId": "f8c9b3e1-c535-4127-ddc7-e7d01f0da4b7"
      },
      "outputs": [
        {
          "output_type": "execute_result",
          "data": {
            "text/plain": [
              "[TaggedDocument(words=['adventures', 'writer', 'newt', 'scamander', 'new', \"york's\", 'secret', 'community', 'witches', 'wizards', 'seventy', 'years', 'harry', 'potter', 'reads', 'book', 'school.'], tags=[10]),\n",
              " TaggedDocument(words=['story', 'team', 'female', 'african-american', 'mathematicians', 'served', 'vital', 'role', 'nasa', 'early', 'years', 'u.s.', 'space', 'program.'], tags=[11])]"
            ]
          },
          "metadata": {},
          "execution_count": 144
        }
      ],
      "source": [
        "documents = [TaggedDocument(doc, [i]) for i, doc in enumerate(input_text)]\n",
        "documents[10:12]"
      ]
    },
    {
      "cell_type": "markdown",
      "metadata": {
        "id": "ViYVvSK1B_zd"
      },
      "source": [
        "обучаем модель на текстах описаний фильмов (можно поизменять параметры)"
      ]
    },
    {
      "cell_type": "code",
      "execution_count": 145,
      "metadata": {
        "id": "IAkmbT_IB_zd"
      },
      "outputs": [],
      "source": [
        "#изменила параметры модели\n",
        "model = Doc2Vec(documents, vector_size=10, window=4, min_count=1, workers=8)"
      ]
    },
    {
      "cell_type": "code",
      "execution_count": 146,
      "metadata": {
        "id": "TlUZzU2FB_zd"
      },
      "outputs": [],
      "source": [
        "model.save(\"D2V.model\") # сохранение модели"
      ]
    },
    {
      "cell_type": "code",
      "execution_count": 147,
      "metadata": {
        "colab": {
          "base_uri": "https://localhost:8080/"
        },
        "id": "rylkIqP-B_zd",
        "outputId": "6e48a316-240a-4859-8fb8-43832ff1497b"
      },
      "outputs": [
        {
          "output_type": "execute_result",
          "data": {
            "text/plain": [
              "array([-0.05236586, -0.05975834, -0.09778433,  0.08829936,  0.03731123,\n",
              "        0.00511391, -0.09554334, -0.05075314, -0.10293548,  0.02190863],\n",
              "      dtype=float32)"
            ]
          },
          "metadata": {},
          "execution_count": 147
        }
      ],
      "source": [
        "# так можно посмотреть на векторы текстов, на которых училась модель\n",
        "# индекс [] около documents -- это индекс текста из датасета\n",
        "\n",
        "model.dv[documents[0].tags[0]]\n"
      ]
    },
    {
      "cell_type": "markdown",
      "metadata": {
        "id": "Mgma9UCMB_zd"
      },
      "source": [
        "Теперь нужно добавить векторы в датасет с остальными параметрами"
      ]
    },
    {
      "cell_type": "code",
      "execution_count": 148,
      "metadata": {
        "id": "q_JZ3VxPB_zd"
      },
      "outputs": [],
      "source": [
        "# создадим список с векторами для каждого текста\n",
        "vectors = []\n",
        "for x in documents:\n",
        "    vec = list(model.dv[x.tags][0])\n",
        "    vectors.append(vec)"
      ]
    },
    {
      "cell_type": "code",
      "execution_count": 149,
      "metadata": {
        "tags": [],
        "colab": {
          "base_uri": "https://localhost:8080/",
          "height": 423
        },
        "id": "XuF7obN9B_zd",
        "outputId": "682c988c-b1e0-42c3-e334-aeaac4231bde"
      },
      "outputs": [
        {
          "output_type": "execute_result",
          "data": {
            "text/plain": [
              "           v1        v2        v3        v4        v5        v6        v7  \\\n",
              "0   -0.052366 -0.059758 -0.097784  0.088299  0.037311  0.005114 -0.095543   \n",
              "1    0.032020  0.047205 -0.039074 -0.029797 -0.028218 -0.084016  0.024819   \n",
              "2   -0.036532  0.028637 -0.055364  0.028926  0.060798 -0.077613 -0.081259   \n",
              "3    0.062431  0.072310 -0.059182 -0.040732 -0.008796  0.022401 -0.008776   \n",
              "4   -0.015053 -0.072018  0.046644 -0.085173  0.030440 -0.043319  0.012275   \n",
              "..        ...       ...       ...       ...       ...       ...       ...   \n",
              "995 -0.061901 -0.098444  0.095745  0.099105 -0.020625  0.086851  0.100314   \n",
              "996  0.089618 -0.034962 -0.034127 -0.032942  0.029193 -0.017745 -0.075185   \n",
              "997 -0.024297  0.093265  0.022026 -0.007757  0.059960  0.069314 -0.025209   \n",
              "998  0.003623  0.017906  0.000390 -0.060346 -0.093811  0.094992 -0.045154   \n",
              "999  0.074802 -0.044230 -0.018352  0.066006  0.088090  0.079057  0.047322   \n",
              "\n",
              "           v8        v9       v10  \n",
              "0   -0.050753 -0.102935  0.021909  \n",
              "1    0.092861 -0.101163 -0.037055  \n",
              "2   -0.097972  0.042140 -0.092174  \n",
              "3   -0.084796 -0.048371  0.014637  \n",
              "4   -0.019983  0.043011 -0.084824  \n",
              "..        ...       ...       ...  \n",
              "995 -0.098062  0.074733 -0.094351  \n",
              "996 -0.075066 -0.098512 -0.095409  \n",
              "997 -0.072907 -0.102488  0.005501  \n",
              "998 -0.094413  0.089744  0.056452  \n",
              "999  0.043188  0.007776  0.063986  \n",
              "\n",
              "[1000 rows x 10 columns]"
            ],
            "text/html": [
              "\n",
              "  <div id=\"df-d1f39052-5aeb-4a03-be20-d7953633b5a9\">\n",
              "    <div class=\"colab-df-container\">\n",
              "      <div>\n",
              "<style scoped>\n",
              "    .dataframe tbody tr th:only-of-type {\n",
              "        vertical-align: middle;\n",
              "    }\n",
              "\n",
              "    .dataframe tbody tr th {\n",
              "        vertical-align: top;\n",
              "    }\n",
              "\n",
              "    .dataframe thead th {\n",
              "        text-align: right;\n",
              "    }\n",
              "</style>\n",
              "<table border=\"1\" class=\"dataframe\">\n",
              "  <thead>\n",
              "    <tr style=\"text-align: right;\">\n",
              "      <th></th>\n",
              "      <th>v1</th>\n",
              "      <th>v2</th>\n",
              "      <th>v3</th>\n",
              "      <th>v4</th>\n",
              "      <th>v5</th>\n",
              "      <th>v6</th>\n",
              "      <th>v7</th>\n",
              "      <th>v8</th>\n",
              "      <th>v9</th>\n",
              "      <th>v10</th>\n",
              "    </tr>\n",
              "  </thead>\n",
              "  <tbody>\n",
              "    <tr>\n",
              "      <th>0</th>\n",
              "      <td>-0.052366</td>\n",
              "      <td>-0.059758</td>\n",
              "      <td>-0.097784</td>\n",
              "      <td>0.088299</td>\n",
              "      <td>0.037311</td>\n",
              "      <td>0.005114</td>\n",
              "      <td>-0.095543</td>\n",
              "      <td>-0.050753</td>\n",
              "      <td>-0.102935</td>\n",
              "      <td>0.021909</td>\n",
              "    </tr>\n",
              "    <tr>\n",
              "      <th>1</th>\n",
              "      <td>0.032020</td>\n",
              "      <td>0.047205</td>\n",
              "      <td>-0.039074</td>\n",
              "      <td>-0.029797</td>\n",
              "      <td>-0.028218</td>\n",
              "      <td>-0.084016</td>\n",
              "      <td>0.024819</td>\n",
              "      <td>0.092861</td>\n",
              "      <td>-0.101163</td>\n",
              "      <td>-0.037055</td>\n",
              "    </tr>\n",
              "    <tr>\n",
              "      <th>2</th>\n",
              "      <td>-0.036532</td>\n",
              "      <td>0.028637</td>\n",
              "      <td>-0.055364</td>\n",
              "      <td>0.028926</td>\n",
              "      <td>0.060798</td>\n",
              "      <td>-0.077613</td>\n",
              "      <td>-0.081259</td>\n",
              "      <td>-0.097972</td>\n",
              "      <td>0.042140</td>\n",
              "      <td>-0.092174</td>\n",
              "    </tr>\n",
              "    <tr>\n",
              "      <th>3</th>\n",
              "      <td>0.062431</td>\n",
              "      <td>0.072310</td>\n",
              "      <td>-0.059182</td>\n",
              "      <td>-0.040732</td>\n",
              "      <td>-0.008796</td>\n",
              "      <td>0.022401</td>\n",
              "      <td>-0.008776</td>\n",
              "      <td>-0.084796</td>\n",
              "      <td>-0.048371</td>\n",
              "      <td>0.014637</td>\n",
              "    </tr>\n",
              "    <tr>\n",
              "      <th>4</th>\n",
              "      <td>-0.015053</td>\n",
              "      <td>-0.072018</td>\n",
              "      <td>0.046644</td>\n",
              "      <td>-0.085173</td>\n",
              "      <td>0.030440</td>\n",
              "      <td>-0.043319</td>\n",
              "      <td>0.012275</td>\n",
              "      <td>-0.019983</td>\n",
              "      <td>0.043011</td>\n",
              "      <td>-0.084824</td>\n",
              "    </tr>\n",
              "    <tr>\n",
              "      <th>...</th>\n",
              "      <td>...</td>\n",
              "      <td>...</td>\n",
              "      <td>...</td>\n",
              "      <td>...</td>\n",
              "      <td>...</td>\n",
              "      <td>...</td>\n",
              "      <td>...</td>\n",
              "      <td>...</td>\n",
              "      <td>...</td>\n",
              "      <td>...</td>\n",
              "    </tr>\n",
              "    <tr>\n",
              "      <th>995</th>\n",
              "      <td>-0.061901</td>\n",
              "      <td>-0.098444</td>\n",
              "      <td>0.095745</td>\n",
              "      <td>0.099105</td>\n",
              "      <td>-0.020625</td>\n",
              "      <td>0.086851</td>\n",
              "      <td>0.100314</td>\n",
              "      <td>-0.098062</td>\n",
              "      <td>0.074733</td>\n",
              "      <td>-0.094351</td>\n",
              "    </tr>\n",
              "    <tr>\n",
              "      <th>996</th>\n",
              "      <td>0.089618</td>\n",
              "      <td>-0.034962</td>\n",
              "      <td>-0.034127</td>\n",
              "      <td>-0.032942</td>\n",
              "      <td>0.029193</td>\n",
              "      <td>-0.017745</td>\n",
              "      <td>-0.075185</td>\n",
              "      <td>-0.075066</td>\n",
              "      <td>-0.098512</td>\n",
              "      <td>-0.095409</td>\n",
              "    </tr>\n",
              "    <tr>\n",
              "      <th>997</th>\n",
              "      <td>-0.024297</td>\n",
              "      <td>0.093265</td>\n",
              "      <td>0.022026</td>\n",
              "      <td>-0.007757</td>\n",
              "      <td>0.059960</td>\n",
              "      <td>0.069314</td>\n",
              "      <td>-0.025209</td>\n",
              "      <td>-0.072907</td>\n",
              "      <td>-0.102488</td>\n",
              "      <td>0.005501</td>\n",
              "    </tr>\n",
              "    <tr>\n",
              "      <th>998</th>\n",
              "      <td>0.003623</td>\n",
              "      <td>0.017906</td>\n",
              "      <td>0.000390</td>\n",
              "      <td>-0.060346</td>\n",
              "      <td>-0.093811</td>\n",
              "      <td>0.094992</td>\n",
              "      <td>-0.045154</td>\n",
              "      <td>-0.094413</td>\n",
              "      <td>0.089744</td>\n",
              "      <td>0.056452</td>\n",
              "    </tr>\n",
              "    <tr>\n",
              "      <th>999</th>\n",
              "      <td>0.074802</td>\n",
              "      <td>-0.044230</td>\n",
              "      <td>-0.018352</td>\n",
              "      <td>0.066006</td>\n",
              "      <td>0.088090</td>\n",
              "      <td>0.079057</td>\n",
              "      <td>0.047322</td>\n",
              "      <td>0.043188</td>\n",
              "      <td>0.007776</td>\n",
              "      <td>0.063986</td>\n",
              "    </tr>\n",
              "  </tbody>\n",
              "</table>\n",
              "<p>1000 rows × 10 columns</p>\n",
              "</div>\n",
              "      <button class=\"colab-df-convert\" onclick=\"convertToInteractive('df-d1f39052-5aeb-4a03-be20-d7953633b5a9')\"\n",
              "              title=\"Convert this dataframe to an interactive table.\"\n",
              "              style=\"display:none;\">\n",
              "        \n",
              "  <svg xmlns=\"http://www.w3.org/2000/svg\" height=\"24px\"viewBox=\"0 0 24 24\"\n",
              "       width=\"24px\">\n",
              "    <path d=\"M0 0h24v24H0V0z\" fill=\"none\"/>\n",
              "    <path d=\"M18.56 5.44l.94 2.06.94-2.06 2.06-.94-2.06-.94-.94-2.06-.94 2.06-2.06.94zm-11 1L8.5 8.5l.94-2.06 2.06-.94-2.06-.94L8.5 2.5l-.94 2.06-2.06.94zm10 10l.94 2.06.94-2.06 2.06-.94-2.06-.94-.94-2.06-.94 2.06-2.06.94z\"/><path d=\"M17.41 7.96l-1.37-1.37c-.4-.4-.92-.59-1.43-.59-.52 0-1.04.2-1.43.59L10.3 9.45l-7.72 7.72c-.78.78-.78 2.05 0 2.83L4 21.41c.39.39.9.59 1.41.59.51 0 1.02-.2 1.41-.59l7.78-7.78 2.81-2.81c.8-.78.8-2.07 0-2.86zM5.41 20L4 18.59l7.72-7.72 1.47 1.35L5.41 20z\"/>\n",
              "  </svg>\n",
              "      </button>\n",
              "      \n",
              "  <style>\n",
              "    .colab-df-container {\n",
              "      display:flex;\n",
              "      flex-wrap:wrap;\n",
              "      gap: 12px;\n",
              "    }\n",
              "\n",
              "    .colab-df-convert {\n",
              "      background-color: #E8F0FE;\n",
              "      border: none;\n",
              "      border-radius: 50%;\n",
              "      cursor: pointer;\n",
              "      display: none;\n",
              "      fill: #1967D2;\n",
              "      height: 32px;\n",
              "      padding: 0 0 0 0;\n",
              "      width: 32px;\n",
              "    }\n",
              "\n",
              "    .colab-df-convert:hover {\n",
              "      background-color: #E2EBFA;\n",
              "      box-shadow: 0px 1px 2px rgba(60, 64, 67, 0.3), 0px 1px 3px 1px rgba(60, 64, 67, 0.15);\n",
              "      fill: #174EA6;\n",
              "    }\n",
              "\n",
              "    [theme=dark] .colab-df-convert {\n",
              "      background-color: #3B4455;\n",
              "      fill: #D2E3FC;\n",
              "    }\n",
              "\n",
              "    [theme=dark] .colab-df-convert:hover {\n",
              "      background-color: #434B5C;\n",
              "      box-shadow: 0px 1px 3px 1px rgba(0, 0, 0, 0.15);\n",
              "      filter: drop-shadow(0px 1px 2px rgba(0, 0, 0, 0.3));\n",
              "      fill: #FFFFFF;\n",
              "    }\n",
              "  </style>\n",
              "\n",
              "      <script>\n",
              "        const buttonEl =\n",
              "          document.querySelector('#df-d1f39052-5aeb-4a03-be20-d7953633b5a9 button.colab-df-convert');\n",
              "        buttonEl.style.display =\n",
              "          google.colab.kernel.accessAllowed ? 'block' : 'none';\n",
              "\n",
              "        async function convertToInteractive(key) {\n",
              "          const element = document.querySelector('#df-d1f39052-5aeb-4a03-be20-d7953633b5a9');\n",
              "          const dataTable =\n",
              "            await google.colab.kernel.invokeFunction('convertToInteractive',\n",
              "                                                     [key], {});\n",
              "          if (!dataTable) return;\n",
              "\n",
              "          const docLinkHtml = 'Like what you see? Visit the ' +\n",
              "            '<a target=\"_blank\" href=https://colab.research.google.com/notebooks/data_table.ipynb>data table notebook</a>'\n",
              "            + ' to learn more about interactive tables.';\n",
              "          element.innerHTML = '';\n",
              "          dataTable['output_type'] = 'display_data';\n",
              "          await google.colab.output.renderOutput(dataTable, element);\n",
              "          const docLink = document.createElement('div');\n",
              "          docLink.innerHTML = docLinkHtml;\n",
              "          element.appendChild(docLink);\n",
              "        }\n",
              "      </script>\n",
              "    </div>\n",
              "  </div>\n",
              "  "
            ]
          },
          "metadata": {},
          "execution_count": 149
        }
      ],
      "source": [
        "# так получим датафрейм, где все компоненты векторов в отдельных столбцах\n",
        "split_df = pd.DataFrame(vectors,\n",
        "                        columns=['v'+str(i) for i in range(1,11)])\n",
        "\n",
        "split_df\n"
      ]
    },
    {
      "cell_type": "code",
      "execution_count": 150,
      "metadata": {
        "colab": {
          "base_uri": "https://localhost:8080/"
        },
        "id": "BNHfx6PZB_zd",
        "outputId": "f4a6ae58-3478-4617-c02f-d72f58407ca3"
      },
      "outputs": [
        {
          "output_type": "execute_result",
          "data": {
            "text/plain": [
              "(1000, 23)"
            ]
          },
          "metadata": {},
          "execution_count": 150
        }
      ],
      "source": [
        "# теперь добавим его к основному датафрейму\n",
        "result = data.join(split_df, how='left')\n",
        "result.shape"
      ]
    },
    {
      "cell_type": "code",
      "execution_count": 151,
      "metadata": {
        "colab": {
          "base_uri": "https://localhost:8080/",
          "height": 1000
        },
        "id": "s_aDVB7oB_zd",
        "outputId": "e95821cf-1091-4cf1-a29f-15878fccf5f6"
      },
      "outputs": [
        {
          "output_type": "execute_result",
          "data": {
            "text/plain": [
              "     Rank                    Title                     Genre  \\\n",
              "0       1  Guardians of the Galaxy   Action,Adventure,Sci-Fi   \n",
              "1       2               Prometheus  Adventure,Mystery,Sci-Fi   \n",
              "2       3                    Split           Horror,Thriller   \n",
              "3       4                     Sing   Animation,Comedy,Family   \n",
              "4       5            Suicide Squad  Action,Adventure,Fantasy   \n",
              "..    ...                      ...                       ...   \n",
              "995   996     Secret in Their Eyes       Crime,Drama,Mystery   \n",
              "996   997          Hostel: Part II                    Horror   \n",
              "997   998   Step Up 2: The Streets       Drama,Music,Romance   \n",
              "998   999             Search Party          Adventure,Comedy   \n",
              "999  1000               Nine Lives     Comedy,Family,Fantasy   \n",
              "\n",
              "                                           Description              Director  \\\n",
              "0    A group of intergalactic criminals are forced ...            James Gunn   \n",
              "1    Following clues to the origin of mankind, a te...          Ridley Scott   \n",
              "2    Three girls are kidnapped by a man with a diag...    M. Night Shyamalan   \n",
              "3    In a city of humanoid animals, a hustling thea...  Christophe Lourdelet   \n",
              "4    A secret government agency recruits some of th...            David Ayer   \n",
              "..                                                 ...                   ...   \n",
              "995  A tight-knit team of rising investigators, alo...             Billy Ray   \n",
              "996  Three American college students studying abroa...              Eli Roth   \n",
              "997  Romantic sparks occur between two dance studen...            Jon M. Chu   \n",
              "998  A pair of friends embark on a mission to reuni...        Scot Armstrong   \n",
              "999  A stuffy businessman finds himself trapped ins...      Barry Sonnenfeld   \n",
              "\n",
              "                                                Actors  Year  \\\n",
              "0    Chris Pratt, Vin Diesel, Bradley Cooper, Zoe S...  2014   \n",
              "1    Noomi Rapace, Logan Marshall-Green, Michael Fa...  2012   \n",
              "2    James McAvoy, Anya Taylor-Joy, Haley Lu Richar...  2016   \n",
              "3    Matthew McConaughey,Reese Witherspoon, Seth Ma...  2016   \n",
              "4    Will Smith, Jared Leto, Margot Robbie, Viola D...  2016   \n",
              "..                                                 ...   ...   \n",
              "995  Chiwetel Ejiofor, Nicole Kidman, Julia Roberts...  2015   \n",
              "996  Lauren German, Heather Matarazzo, Bijou Philli...  2007   \n",
              "997  Robert Hoffman, Briana Evigan, Cassie Ventura,...  2008   \n",
              "998  Adam Pally, T.J. Miller, Thomas Middleditch,Sh...  2014   \n",
              "999  Kevin Spacey, Jennifer Garner, Robbie Amell,Ch...  2016   \n",
              "\n",
              "     Runtime (Minutes)  Rating   Votes  ...        v1        v2        v3  \\\n",
              "0                  121     8.1  757074  ... -0.052366 -0.059758 -0.097784   \n",
              "1                  124     7.0  485820  ...  0.032020  0.047205 -0.039074   \n",
              "2                  117     7.3  157606  ... -0.036532  0.028637 -0.055364   \n",
              "3                  108     7.2   60545  ...  0.062431  0.072310 -0.059182   \n",
              "4                  123     6.2  393727  ... -0.015053 -0.072018  0.046644   \n",
              "..                 ...     ...     ...  ...       ...       ...       ...   \n",
              "995                111     6.2   27585  ... -0.061901 -0.098444  0.095745   \n",
              "996                 94     5.5   73152  ...  0.089618 -0.034962 -0.034127   \n",
              "997                 98     6.2   70699  ... -0.024297  0.093265  0.022026   \n",
              "998                 93     5.6    4881  ...  0.003623  0.017906  0.000390   \n",
              "999                 87     5.3   12435  ...  0.074802 -0.044230 -0.018352   \n",
              "\n",
              "           v4        v5        v6        v7        v8        v9       v10  \n",
              "0    0.088299  0.037311  0.005114 -0.095543 -0.050753 -0.102935  0.021909  \n",
              "1   -0.029797 -0.028218 -0.084016  0.024819  0.092861 -0.101163 -0.037055  \n",
              "2    0.028926  0.060798 -0.077613 -0.081259 -0.097972  0.042140 -0.092174  \n",
              "3   -0.040732 -0.008796  0.022401 -0.008776 -0.084796 -0.048371  0.014637  \n",
              "4   -0.085173  0.030440 -0.043319  0.012275 -0.019983  0.043011 -0.084824  \n",
              "..        ...       ...       ...       ...       ...       ...       ...  \n",
              "995  0.099105 -0.020625  0.086851  0.100314 -0.098062  0.074733 -0.094351  \n",
              "996 -0.032942  0.029193 -0.017745 -0.075185 -0.075066 -0.098512 -0.095409  \n",
              "997 -0.007757  0.059960  0.069314 -0.025209 -0.072907 -0.102488  0.005501  \n",
              "998 -0.060346 -0.093811  0.094992 -0.045154 -0.094413  0.089744  0.056452  \n",
              "999  0.066006  0.088090  0.079057  0.047322  0.043188  0.007776  0.063986  \n",
              "\n",
              "[1000 rows x 23 columns]"
            ],
            "text/html": [
              "\n",
              "  <div id=\"df-95f6d0c2-42c6-4c65-bd75-bf6fa8b511e3\">\n",
              "    <div class=\"colab-df-container\">\n",
              "      <div>\n",
              "<style scoped>\n",
              "    .dataframe tbody tr th:only-of-type {\n",
              "        vertical-align: middle;\n",
              "    }\n",
              "\n",
              "    .dataframe tbody tr th {\n",
              "        vertical-align: top;\n",
              "    }\n",
              "\n",
              "    .dataframe thead th {\n",
              "        text-align: right;\n",
              "    }\n",
              "</style>\n",
              "<table border=\"1\" class=\"dataframe\">\n",
              "  <thead>\n",
              "    <tr style=\"text-align: right;\">\n",
              "      <th></th>\n",
              "      <th>Rank</th>\n",
              "      <th>Title</th>\n",
              "      <th>Genre</th>\n",
              "      <th>Description</th>\n",
              "      <th>Director</th>\n",
              "      <th>Actors</th>\n",
              "      <th>Year</th>\n",
              "      <th>Runtime (Minutes)</th>\n",
              "      <th>Rating</th>\n",
              "      <th>Votes</th>\n",
              "      <th>...</th>\n",
              "      <th>v1</th>\n",
              "      <th>v2</th>\n",
              "      <th>v3</th>\n",
              "      <th>v4</th>\n",
              "      <th>v5</th>\n",
              "      <th>v6</th>\n",
              "      <th>v7</th>\n",
              "      <th>v8</th>\n",
              "      <th>v9</th>\n",
              "      <th>v10</th>\n",
              "    </tr>\n",
              "  </thead>\n",
              "  <tbody>\n",
              "    <tr>\n",
              "      <th>0</th>\n",
              "      <td>1</td>\n",
              "      <td>Guardians of the Galaxy</td>\n",
              "      <td>Action,Adventure,Sci-Fi</td>\n",
              "      <td>A group of intergalactic criminals are forced ...</td>\n",
              "      <td>James Gunn</td>\n",
              "      <td>Chris Pratt, Vin Diesel, Bradley Cooper, Zoe S...</td>\n",
              "      <td>2014</td>\n",
              "      <td>121</td>\n",
              "      <td>8.1</td>\n",
              "      <td>757074</td>\n",
              "      <td>...</td>\n",
              "      <td>-0.052366</td>\n",
              "      <td>-0.059758</td>\n",
              "      <td>-0.097784</td>\n",
              "      <td>0.088299</td>\n",
              "      <td>0.037311</td>\n",
              "      <td>0.005114</td>\n",
              "      <td>-0.095543</td>\n",
              "      <td>-0.050753</td>\n",
              "      <td>-0.102935</td>\n",
              "      <td>0.021909</td>\n",
              "    </tr>\n",
              "    <tr>\n",
              "      <th>1</th>\n",
              "      <td>2</td>\n",
              "      <td>Prometheus</td>\n",
              "      <td>Adventure,Mystery,Sci-Fi</td>\n",
              "      <td>Following clues to the origin of mankind, a te...</td>\n",
              "      <td>Ridley Scott</td>\n",
              "      <td>Noomi Rapace, Logan Marshall-Green, Michael Fa...</td>\n",
              "      <td>2012</td>\n",
              "      <td>124</td>\n",
              "      <td>7.0</td>\n",
              "      <td>485820</td>\n",
              "      <td>...</td>\n",
              "      <td>0.032020</td>\n",
              "      <td>0.047205</td>\n",
              "      <td>-0.039074</td>\n",
              "      <td>-0.029797</td>\n",
              "      <td>-0.028218</td>\n",
              "      <td>-0.084016</td>\n",
              "      <td>0.024819</td>\n",
              "      <td>0.092861</td>\n",
              "      <td>-0.101163</td>\n",
              "      <td>-0.037055</td>\n",
              "    </tr>\n",
              "    <tr>\n",
              "      <th>2</th>\n",
              "      <td>3</td>\n",
              "      <td>Split</td>\n",
              "      <td>Horror,Thriller</td>\n",
              "      <td>Three girls are kidnapped by a man with a diag...</td>\n",
              "      <td>M. Night Shyamalan</td>\n",
              "      <td>James McAvoy, Anya Taylor-Joy, Haley Lu Richar...</td>\n",
              "      <td>2016</td>\n",
              "      <td>117</td>\n",
              "      <td>7.3</td>\n",
              "      <td>157606</td>\n",
              "      <td>...</td>\n",
              "      <td>-0.036532</td>\n",
              "      <td>0.028637</td>\n",
              "      <td>-0.055364</td>\n",
              "      <td>0.028926</td>\n",
              "      <td>0.060798</td>\n",
              "      <td>-0.077613</td>\n",
              "      <td>-0.081259</td>\n",
              "      <td>-0.097972</td>\n",
              "      <td>0.042140</td>\n",
              "      <td>-0.092174</td>\n",
              "    </tr>\n",
              "    <tr>\n",
              "      <th>3</th>\n",
              "      <td>4</td>\n",
              "      <td>Sing</td>\n",
              "      <td>Animation,Comedy,Family</td>\n",
              "      <td>In a city of humanoid animals, a hustling thea...</td>\n",
              "      <td>Christophe Lourdelet</td>\n",
              "      <td>Matthew McConaughey,Reese Witherspoon, Seth Ma...</td>\n",
              "      <td>2016</td>\n",
              "      <td>108</td>\n",
              "      <td>7.2</td>\n",
              "      <td>60545</td>\n",
              "      <td>...</td>\n",
              "      <td>0.062431</td>\n",
              "      <td>0.072310</td>\n",
              "      <td>-0.059182</td>\n",
              "      <td>-0.040732</td>\n",
              "      <td>-0.008796</td>\n",
              "      <td>0.022401</td>\n",
              "      <td>-0.008776</td>\n",
              "      <td>-0.084796</td>\n",
              "      <td>-0.048371</td>\n",
              "      <td>0.014637</td>\n",
              "    </tr>\n",
              "    <tr>\n",
              "      <th>4</th>\n",
              "      <td>5</td>\n",
              "      <td>Suicide Squad</td>\n",
              "      <td>Action,Adventure,Fantasy</td>\n",
              "      <td>A secret government agency recruits some of th...</td>\n",
              "      <td>David Ayer</td>\n",
              "      <td>Will Smith, Jared Leto, Margot Robbie, Viola D...</td>\n",
              "      <td>2016</td>\n",
              "      <td>123</td>\n",
              "      <td>6.2</td>\n",
              "      <td>393727</td>\n",
              "      <td>...</td>\n",
              "      <td>-0.015053</td>\n",
              "      <td>-0.072018</td>\n",
              "      <td>0.046644</td>\n",
              "      <td>-0.085173</td>\n",
              "      <td>0.030440</td>\n",
              "      <td>-0.043319</td>\n",
              "      <td>0.012275</td>\n",
              "      <td>-0.019983</td>\n",
              "      <td>0.043011</td>\n",
              "      <td>-0.084824</td>\n",
              "    </tr>\n",
              "    <tr>\n",
              "      <th>...</th>\n",
              "      <td>...</td>\n",
              "      <td>...</td>\n",
              "      <td>...</td>\n",
              "      <td>...</td>\n",
              "      <td>...</td>\n",
              "      <td>...</td>\n",
              "      <td>...</td>\n",
              "      <td>...</td>\n",
              "      <td>...</td>\n",
              "      <td>...</td>\n",
              "      <td>...</td>\n",
              "      <td>...</td>\n",
              "      <td>...</td>\n",
              "      <td>...</td>\n",
              "      <td>...</td>\n",
              "      <td>...</td>\n",
              "      <td>...</td>\n",
              "      <td>...</td>\n",
              "      <td>...</td>\n",
              "      <td>...</td>\n",
              "      <td>...</td>\n",
              "    </tr>\n",
              "    <tr>\n",
              "      <th>995</th>\n",
              "      <td>996</td>\n",
              "      <td>Secret in Their Eyes</td>\n",
              "      <td>Crime,Drama,Mystery</td>\n",
              "      <td>A tight-knit team of rising investigators, alo...</td>\n",
              "      <td>Billy Ray</td>\n",
              "      <td>Chiwetel Ejiofor, Nicole Kidman, Julia Roberts...</td>\n",
              "      <td>2015</td>\n",
              "      <td>111</td>\n",
              "      <td>6.2</td>\n",
              "      <td>27585</td>\n",
              "      <td>...</td>\n",
              "      <td>-0.061901</td>\n",
              "      <td>-0.098444</td>\n",
              "      <td>0.095745</td>\n",
              "      <td>0.099105</td>\n",
              "      <td>-0.020625</td>\n",
              "      <td>0.086851</td>\n",
              "      <td>0.100314</td>\n",
              "      <td>-0.098062</td>\n",
              "      <td>0.074733</td>\n",
              "      <td>-0.094351</td>\n",
              "    </tr>\n",
              "    <tr>\n",
              "      <th>996</th>\n",
              "      <td>997</td>\n",
              "      <td>Hostel: Part II</td>\n",
              "      <td>Horror</td>\n",
              "      <td>Three American college students studying abroa...</td>\n",
              "      <td>Eli Roth</td>\n",
              "      <td>Lauren German, Heather Matarazzo, Bijou Philli...</td>\n",
              "      <td>2007</td>\n",
              "      <td>94</td>\n",
              "      <td>5.5</td>\n",
              "      <td>73152</td>\n",
              "      <td>...</td>\n",
              "      <td>0.089618</td>\n",
              "      <td>-0.034962</td>\n",
              "      <td>-0.034127</td>\n",
              "      <td>-0.032942</td>\n",
              "      <td>0.029193</td>\n",
              "      <td>-0.017745</td>\n",
              "      <td>-0.075185</td>\n",
              "      <td>-0.075066</td>\n",
              "      <td>-0.098512</td>\n",
              "      <td>-0.095409</td>\n",
              "    </tr>\n",
              "    <tr>\n",
              "      <th>997</th>\n",
              "      <td>998</td>\n",
              "      <td>Step Up 2: The Streets</td>\n",
              "      <td>Drama,Music,Romance</td>\n",
              "      <td>Romantic sparks occur between two dance studen...</td>\n",
              "      <td>Jon M. Chu</td>\n",
              "      <td>Robert Hoffman, Briana Evigan, Cassie Ventura,...</td>\n",
              "      <td>2008</td>\n",
              "      <td>98</td>\n",
              "      <td>6.2</td>\n",
              "      <td>70699</td>\n",
              "      <td>...</td>\n",
              "      <td>-0.024297</td>\n",
              "      <td>0.093265</td>\n",
              "      <td>0.022026</td>\n",
              "      <td>-0.007757</td>\n",
              "      <td>0.059960</td>\n",
              "      <td>0.069314</td>\n",
              "      <td>-0.025209</td>\n",
              "      <td>-0.072907</td>\n",
              "      <td>-0.102488</td>\n",
              "      <td>0.005501</td>\n",
              "    </tr>\n",
              "    <tr>\n",
              "      <th>998</th>\n",
              "      <td>999</td>\n",
              "      <td>Search Party</td>\n",
              "      <td>Adventure,Comedy</td>\n",
              "      <td>A pair of friends embark on a mission to reuni...</td>\n",
              "      <td>Scot Armstrong</td>\n",
              "      <td>Adam Pally, T.J. Miller, Thomas Middleditch,Sh...</td>\n",
              "      <td>2014</td>\n",
              "      <td>93</td>\n",
              "      <td>5.6</td>\n",
              "      <td>4881</td>\n",
              "      <td>...</td>\n",
              "      <td>0.003623</td>\n",
              "      <td>0.017906</td>\n",
              "      <td>0.000390</td>\n",
              "      <td>-0.060346</td>\n",
              "      <td>-0.093811</td>\n",
              "      <td>0.094992</td>\n",
              "      <td>-0.045154</td>\n",
              "      <td>-0.094413</td>\n",
              "      <td>0.089744</td>\n",
              "      <td>0.056452</td>\n",
              "    </tr>\n",
              "    <tr>\n",
              "      <th>999</th>\n",
              "      <td>1000</td>\n",
              "      <td>Nine Lives</td>\n",
              "      <td>Comedy,Family,Fantasy</td>\n",
              "      <td>A stuffy businessman finds himself trapped ins...</td>\n",
              "      <td>Barry Sonnenfeld</td>\n",
              "      <td>Kevin Spacey, Jennifer Garner, Robbie Amell,Ch...</td>\n",
              "      <td>2016</td>\n",
              "      <td>87</td>\n",
              "      <td>5.3</td>\n",
              "      <td>12435</td>\n",
              "      <td>...</td>\n",
              "      <td>0.074802</td>\n",
              "      <td>-0.044230</td>\n",
              "      <td>-0.018352</td>\n",
              "      <td>0.066006</td>\n",
              "      <td>0.088090</td>\n",
              "      <td>0.079057</td>\n",
              "      <td>0.047322</td>\n",
              "      <td>0.043188</td>\n",
              "      <td>0.007776</td>\n",
              "      <td>0.063986</td>\n",
              "    </tr>\n",
              "  </tbody>\n",
              "</table>\n",
              "<p>1000 rows × 23 columns</p>\n",
              "</div>\n",
              "      <button class=\"colab-df-convert\" onclick=\"convertToInteractive('df-95f6d0c2-42c6-4c65-bd75-bf6fa8b511e3')\"\n",
              "              title=\"Convert this dataframe to an interactive table.\"\n",
              "              style=\"display:none;\">\n",
              "        \n",
              "  <svg xmlns=\"http://www.w3.org/2000/svg\" height=\"24px\"viewBox=\"0 0 24 24\"\n",
              "       width=\"24px\">\n",
              "    <path d=\"M0 0h24v24H0V0z\" fill=\"none\"/>\n",
              "    <path d=\"M18.56 5.44l.94 2.06.94-2.06 2.06-.94-2.06-.94-.94-2.06-.94 2.06-2.06.94zm-11 1L8.5 8.5l.94-2.06 2.06-.94-2.06-.94L8.5 2.5l-.94 2.06-2.06.94zm10 10l.94 2.06.94-2.06 2.06-.94-2.06-.94-.94-2.06-.94 2.06-2.06.94z\"/><path d=\"M17.41 7.96l-1.37-1.37c-.4-.4-.92-.59-1.43-.59-.52 0-1.04.2-1.43.59L10.3 9.45l-7.72 7.72c-.78.78-.78 2.05 0 2.83L4 21.41c.39.39.9.59 1.41.59.51 0 1.02-.2 1.41-.59l7.78-7.78 2.81-2.81c.8-.78.8-2.07 0-2.86zM5.41 20L4 18.59l7.72-7.72 1.47 1.35L5.41 20z\"/>\n",
              "  </svg>\n",
              "      </button>\n",
              "      \n",
              "  <style>\n",
              "    .colab-df-container {\n",
              "      display:flex;\n",
              "      flex-wrap:wrap;\n",
              "      gap: 12px;\n",
              "    }\n",
              "\n",
              "    .colab-df-convert {\n",
              "      background-color: #E8F0FE;\n",
              "      border: none;\n",
              "      border-radius: 50%;\n",
              "      cursor: pointer;\n",
              "      display: none;\n",
              "      fill: #1967D2;\n",
              "      height: 32px;\n",
              "      padding: 0 0 0 0;\n",
              "      width: 32px;\n",
              "    }\n",
              "\n",
              "    .colab-df-convert:hover {\n",
              "      background-color: #E2EBFA;\n",
              "      box-shadow: 0px 1px 2px rgba(60, 64, 67, 0.3), 0px 1px 3px 1px rgba(60, 64, 67, 0.15);\n",
              "      fill: #174EA6;\n",
              "    }\n",
              "\n",
              "    [theme=dark] .colab-df-convert {\n",
              "      background-color: #3B4455;\n",
              "      fill: #D2E3FC;\n",
              "    }\n",
              "\n",
              "    [theme=dark] .colab-df-convert:hover {\n",
              "      background-color: #434B5C;\n",
              "      box-shadow: 0px 1px 3px 1px rgba(0, 0, 0, 0.15);\n",
              "      filter: drop-shadow(0px 1px 2px rgba(0, 0, 0, 0.3));\n",
              "      fill: #FFFFFF;\n",
              "    }\n",
              "  </style>\n",
              "\n",
              "      <script>\n",
              "        const buttonEl =\n",
              "          document.querySelector('#df-95f6d0c2-42c6-4c65-bd75-bf6fa8b511e3 button.colab-df-convert');\n",
              "        buttonEl.style.display =\n",
              "          google.colab.kernel.accessAllowed ? 'block' : 'none';\n",
              "\n",
              "        async function convertToInteractive(key) {\n",
              "          const element = document.querySelector('#df-95f6d0c2-42c6-4c65-bd75-bf6fa8b511e3');\n",
              "          const dataTable =\n",
              "            await google.colab.kernel.invokeFunction('convertToInteractive',\n",
              "                                                     [key], {});\n",
              "          if (!dataTable) return;\n",
              "\n",
              "          const docLinkHtml = 'Like what you see? Visit the ' +\n",
              "            '<a target=\"_blank\" href=https://colab.research.google.com/notebooks/data_table.ipynb>data table notebook</a>'\n",
              "            + ' to learn more about interactive tables.';\n",
              "          element.innerHTML = '';\n",
              "          dataTable['output_type'] = 'display_data';\n",
              "          await google.colab.output.renderOutput(dataTable, element);\n",
              "          const docLink = document.createElement('div');\n",
              "          docLink.innerHTML = docLinkHtml;\n",
              "          element.appendChild(docLink);\n",
              "        }\n",
              "      </script>\n",
              "    </div>\n",
              "  </div>\n",
              "  "
            ]
          },
          "metadata": {},
          "execution_count": 151
        }
      ],
      "source": [
        "result"
      ]
    },
    {
      "cell_type": "code",
      "execution_count": 152,
      "metadata": {
        "tags": [],
        "colab": {
          "base_uri": "https://localhost:8080/",
          "height": 161
        },
        "id": "ImwJnbG0B_ze",
        "outputId": "95505490-8c8c-45b1-c6d9-ebbcfe60985c"
      },
      "outputs": [
        {
          "output_type": "stream",
          "name": "stdout",
          "text": [
            "['v1', 'v2', 'v3', 'v4', 'v5', 'v6', 'v7', 'v8', 'v9', 'v10']\n"
          ]
        },
        {
          "output_type": "execute_result",
          "data": {
            "text/plain": [
              "   Runtime (Minutes)  Year  Rating   Votes  Revenue (Millions)  Metascore  \\\n",
              "0                121  2014     8.1  757074              333.13       76.0   \n",
              "1                124  2012     7.0  485820              126.46       65.0   \n",
              "2                117  2016     7.3  157606              138.12       62.0   \n",
              "\n",
              "         v1        v2        v3        v4        v5        v6        v7  \\\n",
              "0 -0.052366 -0.059758 -0.097784  0.088299  0.037311  0.005114 -0.095543   \n",
              "1  0.032020  0.047205 -0.039074 -0.029797 -0.028218 -0.084016  0.024819   \n",
              "2 -0.036532  0.028637 -0.055364  0.028926  0.060798 -0.077613 -0.081259   \n",
              "\n",
              "         v8        v9       v10  \n",
              "0 -0.050753 -0.102935  0.021909  \n",
              "1  0.092861 -0.101163 -0.037055  \n",
              "2 -0.097972  0.042140 -0.092174  "
            ],
            "text/html": [
              "\n",
              "  <div id=\"df-bc54dcc6-c33c-4679-972b-e732e8040c8d\">\n",
              "    <div class=\"colab-df-container\">\n",
              "      <div>\n",
              "<style scoped>\n",
              "    .dataframe tbody tr th:only-of-type {\n",
              "        vertical-align: middle;\n",
              "    }\n",
              "\n",
              "    .dataframe tbody tr th {\n",
              "        vertical-align: top;\n",
              "    }\n",
              "\n",
              "    .dataframe thead th {\n",
              "        text-align: right;\n",
              "    }\n",
              "</style>\n",
              "<table border=\"1\" class=\"dataframe\">\n",
              "  <thead>\n",
              "    <tr style=\"text-align: right;\">\n",
              "      <th></th>\n",
              "      <th>Runtime (Minutes)</th>\n",
              "      <th>Year</th>\n",
              "      <th>Rating</th>\n",
              "      <th>Votes</th>\n",
              "      <th>Revenue (Millions)</th>\n",
              "      <th>Metascore</th>\n",
              "      <th>v1</th>\n",
              "      <th>v2</th>\n",
              "      <th>v3</th>\n",
              "      <th>v4</th>\n",
              "      <th>v5</th>\n",
              "      <th>v6</th>\n",
              "      <th>v7</th>\n",
              "      <th>v8</th>\n",
              "      <th>v9</th>\n",
              "      <th>v10</th>\n",
              "    </tr>\n",
              "  </thead>\n",
              "  <tbody>\n",
              "    <tr>\n",
              "      <th>0</th>\n",
              "      <td>121</td>\n",
              "      <td>2014</td>\n",
              "      <td>8.1</td>\n",
              "      <td>757074</td>\n",
              "      <td>333.13</td>\n",
              "      <td>76.0</td>\n",
              "      <td>-0.052366</td>\n",
              "      <td>-0.059758</td>\n",
              "      <td>-0.097784</td>\n",
              "      <td>0.088299</td>\n",
              "      <td>0.037311</td>\n",
              "      <td>0.005114</td>\n",
              "      <td>-0.095543</td>\n",
              "      <td>-0.050753</td>\n",
              "      <td>-0.102935</td>\n",
              "      <td>0.021909</td>\n",
              "    </tr>\n",
              "    <tr>\n",
              "      <th>1</th>\n",
              "      <td>124</td>\n",
              "      <td>2012</td>\n",
              "      <td>7.0</td>\n",
              "      <td>485820</td>\n",
              "      <td>126.46</td>\n",
              "      <td>65.0</td>\n",
              "      <td>0.032020</td>\n",
              "      <td>0.047205</td>\n",
              "      <td>-0.039074</td>\n",
              "      <td>-0.029797</td>\n",
              "      <td>-0.028218</td>\n",
              "      <td>-0.084016</td>\n",
              "      <td>0.024819</td>\n",
              "      <td>0.092861</td>\n",
              "      <td>-0.101163</td>\n",
              "      <td>-0.037055</td>\n",
              "    </tr>\n",
              "    <tr>\n",
              "      <th>2</th>\n",
              "      <td>117</td>\n",
              "      <td>2016</td>\n",
              "      <td>7.3</td>\n",
              "      <td>157606</td>\n",
              "      <td>138.12</td>\n",
              "      <td>62.0</td>\n",
              "      <td>-0.036532</td>\n",
              "      <td>0.028637</td>\n",
              "      <td>-0.055364</td>\n",
              "      <td>0.028926</td>\n",
              "      <td>0.060798</td>\n",
              "      <td>-0.077613</td>\n",
              "      <td>-0.081259</td>\n",
              "      <td>-0.097972</td>\n",
              "      <td>0.042140</td>\n",
              "      <td>-0.092174</td>\n",
              "    </tr>\n",
              "  </tbody>\n",
              "</table>\n",
              "</div>\n",
              "      <button class=\"colab-df-convert\" onclick=\"convertToInteractive('df-bc54dcc6-c33c-4679-972b-e732e8040c8d')\"\n",
              "              title=\"Convert this dataframe to an interactive table.\"\n",
              "              style=\"display:none;\">\n",
              "        \n",
              "  <svg xmlns=\"http://www.w3.org/2000/svg\" height=\"24px\"viewBox=\"0 0 24 24\"\n",
              "       width=\"24px\">\n",
              "    <path d=\"M0 0h24v24H0V0z\" fill=\"none\"/>\n",
              "    <path d=\"M18.56 5.44l.94 2.06.94-2.06 2.06-.94-2.06-.94-.94-2.06-.94 2.06-2.06.94zm-11 1L8.5 8.5l.94-2.06 2.06-.94-2.06-.94L8.5 2.5l-.94 2.06-2.06.94zm10 10l.94 2.06.94-2.06 2.06-.94-2.06-.94-.94-2.06-.94 2.06-2.06.94z\"/><path d=\"M17.41 7.96l-1.37-1.37c-.4-.4-.92-.59-1.43-.59-.52 0-1.04.2-1.43.59L10.3 9.45l-7.72 7.72c-.78.78-.78 2.05 0 2.83L4 21.41c.39.39.9.59 1.41.59.51 0 1.02-.2 1.41-.59l7.78-7.78 2.81-2.81c.8-.78.8-2.07 0-2.86zM5.41 20L4 18.59l7.72-7.72 1.47 1.35L5.41 20z\"/>\n",
              "  </svg>\n",
              "      </button>\n",
              "      \n",
              "  <style>\n",
              "    .colab-df-container {\n",
              "      display:flex;\n",
              "      flex-wrap:wrap;\n",
              "      gap: 12px;\n",
              "    }\n",
              "\n",
              "    .colab-df-convert {\n",
              "      background-color: #E8F0FE;\n",
              "      border: none;\n",
              "      border-radius: 50%;\n",
              "      cursor: pointer;\n",
              "      display: none;\n",
              "      fill: #1967D2;\n",
              "      height: 32px;\n",
              "      padding: 0 0 0 0;\n",
              "      width: 32px;\n",
              "    }\n",
              "\n",
              "    .colab-df-convert:hover {\n",
              "      background-color: #E2EBFA;\n",
              "      box-shadow: 0px 1px 2px rgba(60, 64, 67, 0.3), 0px 1px 3px 1px rgba(60, 64, 67, 0.15);\n",
              "      fill: #174EA6;\n",
              "    }\n",
              "\n",
              "    [theme=dark] .colab-df-convert {\n",
              "      background-color: #3B4455;\n",
              "      fill: #D2E3FC;\n",
              "    }\n",
              "\n",
              "    [theme=dark] .colab-df-convert:hover {\n",
              "      background-color: #434B5C;\n",
              "      box-shadow: 0px 1px 3px 1px rgba(0, 0, 0, 0.15);\n",
              "      filter: drop-shadow(0px 1px 2px rgba(0, 0, 0, 0.3));\n",
              "      fill: #FFFFFF;\n",
              "    }\n",
              "  </style>\n",
              "\n",
              "      <script>\n",
              "        const buttonEl =\n",
              "          document.querySelector('#df-bc54dcc6-c33c-4679-972b-e732e8040c8d button.colab-df-convert');\n",
              "        buttonEl.style.display =\n",
              "          google.colab.kernel.accessAllowed ? 'block' : 'none';\n",
              "\n",
              "        async function convertToInteractive(key) {\n",
              "          const element = document.querySelector('#df-bc54dcc6-c33c-4679-972b-e732e8040c8d');\n",
              "          const dataTable =\n",
              "            await google.colab.kernel.invokeFunction('convertToInteractive',\n",
              "                                                     [key], {});\n",
              "          if (!dataTable) return;\n",
              "\n",
              "          const docLinkHtml = 'Like what you see? Visit the ' +\n",
              "            '<a target=\"_blank\" href=https://colab.research.google.com/notebooks/data_table.ipynb>data table notebook</a>'\n",
              "            + ' to learn more about interactive tables.';\n",
              "          element.innerHTML = '';\n",
              "          dataTable['output_type'] = 'display_data';\n",
              "          await google.colab.output.renderOutput(dataTable, element);\n",
              "          const docLink = document.createElement('div');\n",
              "          docLink.innerHTML = docLinkHtml;\n",
              "          element.appendChild(docLink);\n",
              "        }\n",
              "      </script>\n",
              "    </div>\n",
              "  </div>\n",
              "  "
            ]
          },
          "metadata": {},
          "execution_count": 152
        }
      ],
      "source": [
        "# переопределим датасет, оставив только важное\n",
        "vects = ['v'+str(i) for i in range(1,11)]\n",
        "print(vects)\n",
        "data_sm = result[['Runtime (Minutes)',\"Year\",\n",
        "                'Rating', 'Votes',\n",
        "                'Revenue (Millions)','Metascore', 'v1', 'v2', 'v3', 'v4', 'v5', 'v6', 'v7', 'v8', 'v9', 'v10']\n",
        "              ]\n",
        "\n",
        "\n",
        "data_sm.head(3)"
      ]
    },
    {
      "cell_type": "markdown",
      "metadata": {
        "id": "a4UIzYA-B_ze"
      },
      "source": [
        "## Подготавливаем матрицы"
      ]
    },
    {
      "cell_type": "code",
      "execution_count": 153,
      "metadata": {
        "tags": [],
        "colab": {
          "base_uri": "https://localhost:8080/",
          "height": 272
        },
        "id": "37mwj94qB_ze",
        "outputId": "36468bd9-fa85-47cb-da1f-16a4de37ab48"
      },
      "outputs": [
        {
          "output_type": "display_data",
          "data": {
            "text/plain": [
              "array([[ 1.21000000e+02,  2.01400000e+03,  7.57074000e+05, ...,\n",
              "        -5.07531352e-02, -1.02935478e-01,  2.19086297e-02],\n",
              "       [ 1.24000000e+02,  2.01200000e+03,  4.85820000e+05, ...,\n",
              "         9.28605050e-02, -1.01163194e-01, -3.70550826e-02],\n",
              "       [ 1.17000000e+02,  2.01600000e+03,  1.57606000e+05, ...,\n",
              "        -9.79721993e-02,  4.21404541e-02, -9.21742618e-02],\n",
              "       ...,\n",
              "       [ 9.80000000e+01,  2.00800000e+03,  7.06990000e+04, ...,\n",
              "        -7.29068965e-02, -1.02488168e-01,  5.50131639e-03],\n",
              "       [ 9.30000000e+01,  2.01400000e+03,  4.88100000e+03, ...,\n",
              "        -9.44128335e-02,  8.97443667e-02,  5.64524010e-02],\n",
              "       [ 8.70000000e+01,  2.01600000e+03,  1.24350000e+04, ...,\n",
              "         4.31879871e-02,  7.77637493e-03,  6.39862940e-02]])"
            ]
          },
          "metadata": {}
        },
        {
          "output_type": "display_data",
          "data": {
            "text/plain": [
              "(1000, 15)"
            ]
          },
          "metadata": {}
        }
      ],
      "source": [
        "# определяем X и y\n",
        "\n",
        "X = data_sm.drop([\"Rating\"],axis=1).values\n",
        "\n",
        "display(X, X.shape)"
      ]
    },
    {
      "cell_type": "code",
      "execution_count": 154,
      "metadata": {
        "colab": {
          "base_uri": "https://localhost:8080/"
        },
        "id": "DqQPjFhKB_ze",
        "outputId": "35461121-7ca8-4192-bd48-64a677fee555"
      },
      "outputs": [
        {
          "output_type": "execute_result",
          "data": {
            "text/plain": [
              "Runtime (Minutes)     False\n",
              "Year                  False\n",
              "Rating                False\n",
              "Votes                 False\n",
              "Revenue (Millions)    False\n",
              "Metascore             False\n",
              "v1                    False\n",
              "v2                    False\n",
              "v3                    False\n",
              "v4                    False\n",
              "v5                    False\n",
              "v6                    False\n",
              "v7                    False\n",
              "v8                    False\n",
              "v9                    False\n",
              "v10                   False\n",
              "dtype: bool"
            ]
          },
          "metadata": {},
          "execution_count": 154
        }
      ],
      "source": [
        "data_sm.isna().any()"
      ]
    },
    {
      "cell_type": "code",
      "execution_count": 155,
      "metadata": {
        "tags": [],
        "colab": {
          "base_uri": "https://localhost:8080/"
        },
        "id": "nai8MqadB_ze",
        "outputId": "6de4dd03-f9bb-475b-8ab9-c07a59fa7a8a"
      },
      "outputs": [
        {
          "output_type": "execute_result",
          "data": {
            "text/plain": [
              "(1000,)"
            ]
          },
          "metadata": {},
          "execution_count": 155
        }
      ],
      "source": [
        "y = data_sm['Rating'].values # отдельно вынесли массив со значениями скорости ветра\n",
        "y.shape"
      ]
    },
    {
      "cell_type": "markdown",
      "metadata": {
        "id": "EfyuLfeSB_ze"
      },
      "source": [
        "Иногда бывает полезно [нормализовать](https://en.wikipedia.org/wiki/Normalization_(statistics)) данные: это позволяет исправить ситуацию, когда признаки представлены в разных единацах измерения.\n",
        "Для этого используется StandardScaler."
      ]
    },
    {
      "cell_type": "markdown",
      "metadata": {
        "id": "vtUX7O6oB_ze"
      },
      "source": [
        "До нормализации:"
      ]
    },
    {
      "cell_type": "code",
      "execution_count": 156,
      "metadata": {
        "colab": {
          "base_uri": "https://localhost:8080/"
        },
        "id": "JuVbJeTVB_ze",
        "outputId": "863150dc-a0da-40ab-c488-74b50c2e8126"
      },
      "outputs": [
        {
          "output_type": "execute_result",
          "data": {
            "text/plain": [
              "[121.0,\n",
              " 2014.0,\n",
              " 757074.0,\n",
              " 333.13,\n",
              " 76.0,\n",
              " -0.05236586183309555,\n",
              " -0.05975833907723427,\n",
              " -0.09778432548046112,\n",
              " 0.08829936385154724,\n",
              " 0.03731123358011246,\n",
              " 0.00511390995234251,\n",
              " -0.09554333984851837,\n",
              " -0.05075313523411751,\n",
              " -0.10293547809123993,\n",
              " 0.021908629685640335]"
            ]
          },
          "metadata": {},
          "execution_count": 156
        }
      ],
      "source": [
        "list(X[0])"
      ]
    },
    {
      "cell_type": "code",
      "execution_count": 158,
      "metadata": {
        "id": "WDyCkJjUB_ze"
      },
      "outputs": [],
      "source": [
        "# использзуем стандартизатор\n",
        "sc = StandardScaler()\n",
        "\n",
        "X_train, X_test, y_train, y_test = train_test_split(sc.fit_transform(X), y, random_state=42)"
      ]
    },
    {
      "cell_type": "markdown",
      "metadata": {
        "id": "OUR7umPOB_zf"
      },
      "source": [
        "После:"
      ]
    },
    {
      "cell_type": "code",
      "execution_count": 159,
      "metadata": {
        "colab": {
          "base_uri": "https://localhost:8080/"
        },
        "id": "eB4vceSyB_zf",
        "outputId": "ea4f70a2-2b47-4053-ee2f-44368c7359c1"
      },
      "outputs": [
        {
          "output_type": "execute_result",
          "data": {
            "text/plain": [
              "[0.4163497512303056,\n",
              " 0.37979525138136244,\n",
              " 3.1126899627963738,\n",
              " 2.5961363010556906,\n",
              " 1.0233613578368184,\n",
              " -0.9743582271503536,\n",
              " -1.093418920239567,\n",
              " -1.7544000282965124,\n",
              " 1.3945945607895156,\n",
              " 0.5656411966008059,\n",
              " -0.0146462752305986,\n",
              " -1.7049259822751213,\n",
              " -0.809841389862479,\n",
              " -1.5733827482338685,\n",
              " 0.39670580152198587]"
            ]
          },
          "metadata": {},
          "execution_count": 159
        }
      ],
      "source": [
        "\n",
        "list(sc.fit_transform(X)[0])"
      ]
    },
    {
      "cell_type": "markdown",
      "metadata": {
        "id": "bFDOLd2aB_zf"
      },
      "source": [
        "теперь с данными удобнее работать и обучать"
      ]
    },
    {
      "cell_type": "code",
      "execution_count": 160,
      "metadata": {
        "tags": [],
        "colab": {
          "base_uri": "https://localhost:8080/"
        },
        "id": "PVWaFjKLB_zf",
        "outputId": "5c6ba41d-6334-42a2-fd4e-518efe0e6a2b"
      },
      "outputs": [
        {
          "output_type": "stream",
          "name": "stdout",
          "text": [
            "MAE\n",
            "0.48713261188646473\n",
            "MSE\n",
            "0.4635001334699899\n",
            "RMSE\n",
            "0.6808084410977804\n"
          ]
        }
      ],
      "source": [
        "# задаем модель регрессора\n",
        "# силу регуляризации можно варьировать параметром alpha\n",
        "regressor = Ridge()\n",
        "\n",
        "\n",
        "# обучаем\n",
        "regressor.fit(X_train, y_train)\n",
        "y_preds = regressor.predict(X_test)\n",
        "print('MAE')\n",
        "print(mean_absolute_error(y_test, y_preds))\n",
        "print('MSE')\n",
        "print(mean_squared_error(y_test, y_preds, squared=True))\n",
        "print('RMSE')\n",
        "print(mean_squared_error(y_test, y_preds, squared=False))"
      ]
    },
    {
      "cell_type": "code",
      "source": [
        "regressor = Ridge(0.01)\n",
        "\n",
        "\n",
        "regressor.fit(X_train, y_train)\n",
        "y_preds = regressor.predict(X_test)\n",
        "print('MAE')\n",
        "print(mean_absolute_error(y_test, y_preds))\n",
        "print('MSE')\n",
        "print(mean_squared_error(y_test, y_preds, squared=True))\n",
        "print('RMSE')\n",
        "print(mean_squared_error(y_test, y_preds, squared=False))"
      ],
      "metadata": {
        "colab": {
          "base_uri": "https://localhost:8080/"
        },
        "id": "Sbm2Vq7kIl8h",
        "outputId": "a47bb5b0-c86c-415a-8932-34112ec76f0a"
      },
      "execution_count": 161,
      "outputs": [
        {
          "output_type": "stream",
          "name": "stdout",
          "text": [
            "MAE\n",
            "0.48711936896349395\n",
            "MSE\n",
            "0.46343420411841657\n",
            "RMSE\n",
            "0.680760019477067\n"
          ]
        }
      ]
    },
    {
      "cell_type": "code",
      "source": [
        "regressor = LinearRegression()\n",
        "\n",
        "\n",
        "regressor.fit(X_train, y_train)\n",
        "y_preds = regressor.predict(X_test)\n",
        "print('MAE')\n",
        "print(mean_absolute_error(y_test, y_preds))\n",
        "print('MSE')\n",
        "print(mean_squared_error(y_test, y_preds, squared=True))\n",
        "print('RMSE')\n",
        "print(mean_squared_error(y_test, y_preds, squared=False))"
      ],
      "metadata": {
        "colab": {
          "base_uri": "https://localhost:8080/"
        },
        "id": "ngNTNif6IzkI",
        "outputId": "63b912b8-25c2-41e8-afbe-3fceea65cf2e"
      },
      "execution_count": 162,
      "outputs": [
        {
          "output_type": "stream",
          "name": "stdout",
          "text": [
            "MAE\n",
            "0.48711923317761685\n",
            "MSE\n",
            "0.4634335441733931\n",
            "RMSE\n",
            "0.6807595347649514\n"
          ]
        }
      ]
    },
    {
      "cell_type": "code",
      "source": [
        "regressor = Lasso()\n",
        "#всё плохо, ошибки большие\n",
        "\n",
        "regressor.fit(X_train, y_train)\n",
        "y_preds = regressor.predict(X_test)\n",
        "print('MAE')\n",
        "print(mean_absolute_error(y_test, y_preds))\n",
        "print('MSE')\n",
        "print(mean_squared_error(y_test, y_preds, squared=True))\n",
        "print('RMSE')\n",
        "print(mean_squared_error(y_test, y_preds, squared=False))"
      ],
      "metadata": {
        "colab": {
          "base_uri": "https://localhost:8080/"
        },
        "id": "1sAsZg99JAPN",
        "outputId": "8ab15478-0954-4dce-e5ea-d2b06846a966"
      },
      "execution_count": 164,
      "outputs": [
        {
          "output_type": "stream",
          "name": "stdout",
          "text": [
            "MAE\n",
            "0.7736000000000001\n",
            "MSE\n",
            "0.9734313244444442\n",
            "RMSE\n",
            "0.9866262334057636\n"
          ]
        }
      ]
    },
    {
      "cell_type": "code",
      "source": [
        "regressor = Lasso(0.01)\n",
        "#а тут уже ничего так\n",
        "\n",
        "regressor.fit(X_train, y_train)\n",
        "y_preds = regressor.predict(X_test)\n",
        "print('MAE')\n",
        "print(mean_absolute_error(y_test, y_preds))\n",
        "print('MSE')\n",
        "print(mean_squared_error(y_test, y_preds, squared=True))\n",
        "print('RMSE')\n",
        "print(mean_squared_error(y_test, y_preds, squared=False))"
      ],
      "metadata": {
        "colab": {
          "base_uri": "https://localhost:8080/"
        },
        "id": "QQ_kyU-GJXtw",
        "outputId": "d533ab53-3d8c-4848-bff5-034d2d4e4a8d"
      },
      "execution_count": 165,
      "outputs": [
        {
          "output_type": "stream",
          "name": "stdout",
          "text": [
            "MAE\n",
            "0.4848179741227267\n",
            "MSE\n",
            "0.46287301540598036\n",
            "RMSE\n",
            "0.6803477165435189\n"
          ]
        }
      ]
    },
    {
      "cell_type": "markdown",
      "source": [
        "## Результаты\n",
        "Я очистила данные от стопа-слов и варьировала параметр длинs вектора в doc2vec от 5 до 10, также я варьировала альфу и прочие параметры у регрессоров, но с параметрами по умолчанию ошибка получилась меньше (см.выше), а удаление стоп-слов не повлияло значимо на результат"
      ],
      "metadata": {
        "id": "hSoXgYXoNgfv"
      }
    },
    {
      "cell_type": "markdown",
      "metadata": {
        "id": "jLFpRjapB_zf"
      },
      "source": [
        "### оценка результатов алгоритма\n",
        "\n",
        "В качестве метрики будем использовать [среднюю абсолютную ошибку](https://www.youtube.com/watch?v=ZejnwbcU8nw). Она показывает отклонение от правильного ответа в тех же единах измерения\n",
        "\n",
        "*(а вообще есть [разные способы](https://towardsdatascience.com/what-are-the-best-metrics-to-evaluate-your-regression-model-418ca481755b))*"
      ]
    },
    {
      "cell_type": "code",
      "source": [],
      "metadata": {
        "id": "c4ca8KE3I_ms"
      },
      "execution_count": 131,
      "outputs": []
    },
    {
      "cell_type": "code",
      "source": [],
      "metadata": {
        "id": "kdL6IrugGJRR"
      },
      "execution_count": 131,
      "outputs": []
    }
  ],
  "metadata": {
    "kernelspec": {
      "display_name": "Python 3 (ipykernel)",
      "language": "python",
      "name": "python3"
    },
    "language_info": {
      "codemirror_mode": {
        "name": "ipython",
        "version": 3
      },
      "file_extension": ".py",
      "mimetype": "text/x-python",
      "name": "python",
      "nbconvert_exporter": "python",
      "pygments_lexer": "ipython3",
      "version": "3.10.0"
    },
    "colab": {
      "provenance": [],
      "include_colab_link": true
    }
  },
  "nbformat": 4,
  "nbformat_minor": 0
}